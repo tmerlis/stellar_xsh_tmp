{
 "cells": [
  {
   "cell_type": "code",
   "execution_count": null,
   "id": "23ee3b8c-346d-4ee7-b799-6f8216c24149",
   "metadata": {},
   "outputs": [],
   "source": [
    "import xarray as xr\n",
    "import matplotlib\n",
    "from matplotlib import pyplot as plt\n",
    "%matplotlib inline\n",
    "import warnings\n",
    "warnings.filterwarnings(\"ignore\")\n",
    "\n",
    "import intake,yaml,os\n",
    "import intake_esm"
   ]
  },
  {
   "cell_type": "code",
   "execution_count": null,
   "id": "e2259f47-ef15-45ab-a160-de25296ee9be",
   "metadata": {},
   "outputs": [],
   "source": [
    "# result of build_xshield_cat.ipynb\n",
    "col_url = \"/home/tmerlis/hackathon/catbuild/xsh24_cat.json\""
   ]
  },
  {
   "cell_type": "code",
   "execution_count": null,
   "id": "c78e92a7-d6bd-4df5-8fb2-a2f2ecc3e887",
   "metadata": {},
   "outputs": [],
   "source": [
    "col = intake.open_esm_datastore(col_url)"
   ]
  },
  {
   "cell_type": "code",
   "execution_count": null,
   "id": "b60cb89e-7545-483f-9832-74d717c664a2",
   "metadata": {},
   "outputs": [],
   "source": [
    "col.df"
   ]
  },
  {
   "cell_type": "code",
   "execution_count": null,
   "id": "0ec86ef1-478b-47fa-a110-751507f1e974",
   "metadata": {},
   "outputs": [],
   "source": [
    "# note member_id is used for the different simulation years that are in the 'processed' and 'processed_new' directories\n",
    "#cat = col.search(variable_id = 't925_coarse_C3072_1440x720', experiment_id = '20191020.00Z.C3072.L79x2_pire_PLUS_4K_CO2_1270ppmv', member_id = 'processed')\n",
    "cat = col.search(variable_id = 'rlut_coarse_C3072_1440x720')"
   ]
  },
  {
   "cell_type": "code",
   "execution_count": null,
   "id": "bfdbe249-dc24-4901-939d-666ca83ffb01",
   "metadata": {},
   "outputs": [],
   "source": [
    "cat"
   ]
  },
  {
   "cell_type": "code",
   "execution_count": null,
   "id": "1f27eb85-8ab1-4244-92db-399bb4f8c790",
   "metadata": {},
   "outputs": [],
   "source": [
    "cat.df['path'][0]"
   ]
  },
  {
   "cell_type": "code",
   "execution_count": null,
   "id": "7f2e7a0f-ca94-4ca1-81a4-8fb78fd7e7b6",
   "metadata": {},
   "outputs": [],
   "source": [
    "dset_dict = cat.to_dataset_dict(cdf_kwargs={'chunks': {'time':5}, 'decode_times': True})"
   ]
  },
  {
   "cell_type": "code",
   "execution_count": null,
   "id": "1403c046-b980-4d9d-9d8c-6c0eb4582c2f",
   "metadata": {},
   "outputs": [],
   "source": [
    "for k in dset_dict.keys(): \n",
    "    print(k)"
   ]
  },
  {
   "cell_type": "code",
   "execution_count": null,
   "id": "a2c00574-af0e-473e-9885-a0a60d819137",
   "metadata": {},
   "outputs": [],
   "source": [
    "# year 1 in ds, year 2 in ds2\n",
    "ds = dset_dict['20191020.00Z.C3072.xs24v2.GLOBALFV3']\n",
    "#GLOBALFV3.20191020.00Z.C3072.L79x2_pire_PLUS_4K_CO2_1270ppmv.processed']\n",
    "#ds2 = dset_dict['GLOBALFV3.20191020.00Z.C3072.L79x2_pire_PLUS_4K_CO2_1270ppmv.processed_new']"
   ]
  },
  {
   "cell_type": "code",
   "execution_count": null,
   "id": "5e73cd3e-c658-4b6a-8cad-2fe81e34552d",
   "metadata": {},
   "outputs": [],
   "source": [
    "ds"
   ]
  },
  {
   "cell_type": "code",
   "execution_count": null,
   "id": "2f22d787-7d0e-47c2-b347-3e7046ef8fdb",
   "metadata": {},
   "outputs": [],
   "source": [
    "ds.time"
   ]
  },
  {
   "cell_type": "code",
   "execution_count": null,
   "id": "c31565a4-438f-463d-a997-49834c6a3279",
   "metadata": {},
   "outputs": [],
   "source": [
    "ds.rlut_coarse"
   ]
  },
  {
   "cell_type": "code",
   "execution_count": null,
   "id": "01a873d4-b212-4447-9ec4-62c8ad8680a2",
   "metadata": {},
   "outputs": [],
   "source": [
    "%%time\n",
    "# monthly mean over May, where the chunking of the nc files is irregular\n",
    "ds.rlut_coarse.sel(time=slice('2020-05-01', '2020-05-31')).mean(dim='time').plot()\n",
    "plt.show()"
   ]
  },
  {
   "cell_type": "code",
   "execution_count": null,
   "id": "6b3b80f3-fc78-4e5e-bff7-e494f37e4d7b",
   "metadata": {},
   "outputs": [],
   "source": [
    "%%time\n",
    "# difference between winter and summer\n",
    "(ds.rlut_coarse.sel(time=slice('2020-01-01', '2020-01-31')).mean(dim='time') - ds.rlut_coarse.sel(time=slice('2020-07-01', '2020-07-31')).mean(dim='time') ).plot()\n",
    "plt.show()"
   ]
  },
  {
   "cell_type": "code",
   "execution_count": null,
   "id": "3a10dccf-4b88-4e46-83c7-960d513fc9f5",
   "metadata": {},
   "outputs": [],
   "source": []
  }
 ],
 "metadata": {
  "kernelspec": {
   "display_name": "easy25 [~/.conda/envs/easy25/]",
   "language": "python",
   "name": "conda_easy25"
  },
  "language_info": {
   "codemirror_mode": {
    "name": "ipython",
    "version": 3
   },
   "file_extension": ".py",
   "mimetype": "text/x-python",
   "name": "python",
   "nbconvert_exporter": "python",
   "pygments_lexer": "ipython3",
   "version": "3.12.10"
  }
 },
 "nbformat": 4,
 "nbformat_minor": 5
}
