{
 "cells": [
  {
   "cell_type": "code",
   "execution_count": null,
   "id": "17d7018a-e8f8-4ce8-beff-18ebd1141533",
   "metadata": {},
   "outputs": [],
   "source": [
    "## Standard Stuff\n",
    "import numpy as np\n",
    "import xarray as xr\n",
    "import cartopy.crs as ccrs\n",
    "import cartopy.feature as cf\n",
    "import matplotlib.pyplot as plt\n",
    "import dask.array as da\n",
    "import numcodecs\n",
    "\n",
    "## HEALPix Specific\n",
    "import healpix as hp\n",
    "import easygems.healpix as egh\n",
    "import easygems.remap as egr\n",
    "\n",
    "import intake     # For catalogs\n",
    "import zarr       "
   ]
  },
  {
   "cell_type": "code",
   "execution_count": null,
   "id": "57f7695a-9e04-4ca5-a260-50d2298ced7f",
   "metadata": {},
   "outputs": [],
   "source": [
    "catfn='/home/tmerlis/hackathon/xsh24_scream_main.yaml'\n",
    "\n",
    "combo_cat = intake.open_catalog(catfn)\n",
    "\n",
    "# 'coarse' is an online coarse-graining of 8 neighboring grid cells ~25km\n",
    "# xsh24 = X-SHiELD 2024 model version, unpublished\n",
    "# xsh21 = X-SHiELD 2021 model version, many articles including Cheng et al. 2022 GRL\n",
    "print (list(combo_cat)) "
   ]
  },
  {
   "cell_type": "code",
   "execution_count": null,
   "id": "e299a13d-d024-4f50-860b-6f82983648b8",
   "metadata": {},
   "outputs": [],
   "source": [
    "# select zoom level and the part of the combined catalog you're interested in\n",
    "# coarse stores are available at zoom 7 ~50km and lower\n",
    "zoom_select = 7\n",
    "ds = combo_cat.xsh24_coarse(zoom=zoom_select).to_dask()\n",
    "# attach coordinates; otherwise can't use lat and lon and selecting regions or taking a zonal mean won't work\n",
    "ds = ds.pipe(egh.attach_coords)\n",
    "\n",
    "# native stores are available at zoom 10 ~6.4km and lower, fewer variables and all are 2d\n",
    "dsn = combo_cat.xsh24_native(zoom=10).to_dask()\n",
    "dsn = dsn.pipe(egh.attach_coords)\n",
    "\n",
    "# we downloaded output from DOE's SCREAM model to stellar\n",
    "# conceivably, we could add to our local collection of models during the week\n",
    "# or augment the catalog with observational datasets\n",
    "ds_scream = combo_cat.scream_ne120(zoom=zoom_select).to_dask()\n",
    "ds_scream = ds_scream.pipe(egh.attach_coords)"
   ]
  },
  {
   "cell_type": "code",
   "execution_count": null,
   "id": "a47ee4be-92ed-4b05-b8b3-cff5a73f0074",
   "metadata": {},
   "outputs": [],
   "source": [
    "# take a look at what variables are healpix-ified\n",
    "# there are many more diagnostic variables that weren't part of the data request\n",
    "ds"
   ]
  },
  {
   "cell_type": "code",
   "execution_count": null,
   "id": "09cda033-1445-4531-bc50-184ebe3dd80f",
   "metadata": {},
   "outputs": [],
   "source": [
    "def worldmap(var, **kwargs):\n",
    "    #projection = ccrs.Robinson(central_longitude=-135.5808361)\n",
    "    projection = ccrs.Robinson(central_longitude=0)\n",
    "    fig, ax = plt.subplots(\n",
    "        figsize=(8, 4), subplot_kw={\"projection\": projection}, constrained_layout=True\n",
    "    )\n",
    "    ax.set_global()\n",
    "\n",
    "    hpshow = egh.healpix_show(var, ax=ax, **kwargs)\n",
    "    cbar = plt.colorbar(hpshow, ax=ax, orientation='vertical', \n",
    "                    pad=0.05, shrink=0.8)\n"
   ]
  },
  {
   "cell_type": "code",
   "execution_count": null,
   "id": "30a42f7d-1914-4e0d-8bcf-952cc604cddc",
   "metadata": {
    "scrolled": true
   },
   "outputs": [],
   "source": [
    "%%time\n",
    "\n",
    "worldmap(ds.uas.sel(time=slice('2020-01-01', '2020-12-31')).mean(dim='time'))"
   ]
  },
  {
   "cell_type": "code",
   "execution_count": null,
   "id": "c4411ea0-50dc-45e9-b06e-de06a715615d",
   "metadata": {},
   "outputs": [],
   "source": [
    "# SCREAM\n",
    "worldmap(ds_scream.uas.sel(time=slice('2020-01-01', '2020-12-31')).mean(dim='time')) "
   ]
  },
  {
   "cell_type": "code",
   "execution_count": null,
   "id": "cbd85ac5-ded7-4b12-838c-5e2f9fdc9c93",
   "metadata": {},
   "outputs": [],
   "source": [
    "%%time\n",
    "\n",
    "# native output at a higher zoom; this is just a one-month mean \n",
    "worldmap(dsn.uas.sel(time=slice('2020-01-01', '2020-01-31')).mean(dim='time'))"
   ]
  },
  {
   "cell_type": "code",
   "execution_count": null,
   "id": "691d0c22-ccfd-4bf6-845d-d1681077834e",
   "metadata": {},
   "outputs": [],
   "source": [
    "%%time\n",
    "\n",
    "# area weighted global mean is easy in healpix, could use a lower zoom to go faster\n",
    "plt.plot(ds.pr.mean(\"cell\")*86400)"
   ]
  },
  {
   "cell_type": "code",
   "execution_count": null,
   "id": "775017d5-3130-482b-9863-a1f7e929f78c",
   "metadata": {},
   "outputs": [],
   "source": [
    "%%time\n",
    "\n",
    "# snapshot\n",
    "var='ua'\n",
    "tm='2020-01-05'\n",
    "tmp=ds[var].sel(time=tm)[0]\n",
    "\n",
    "tmp\n",
    "\n",
    "# zonal mean \n",
    "zm = (\n",
    "    tmp\n",
    "    .groupby(\"lat\")\n",
    "    .mean()\n",
    ").compute()\n",
    "\n",
    "zm.plot()\n",
    "plt.gca().invert_yaxis()"
   ]
  },
  {
   "cell_type": "code",
   "execution_count": null,
   "id": "1079c185-56c0-4bb5-986b-3009e57947fd",
   "metadata": {},
   "outputs": [],
   "source": [
    "# trying out a different colormap\n",
    "worldmap(ds.pr.sel(time=slice('2020-01-01', '2020-01-31')).mean(dim='time')*86400, cmap=\"Blues\")"
   ]
  },
  {
   "cell_type": "code",
   "execution_count": null,
   "id": "2e0ccfe8-37e1-4189-9b1f-674d52e269ea",
   "metadata": {},
   "outputs": [],
   "source": [
    "worldmap(ds_scream.pr.sel(time=slice('2020-01-01', '2020-01-31')).mean(dim='time')*86400, cmap=\"Blues\")"
   ]
  },
  {
   "cell_type": "code",
   "execution_count": null,
   "id": "c1b68dbd-00ea-40a7-99be-e935730e88b5",
   "metadata": {},
   "outputs": [],
   "source": []
  }
 ],
 "metadata": {
  "kernelspec": {
   "display_name": "easy25 [~/.conda/envs/easy25/]",
   "language": "python",
   "name": "conda_easy25"
  },
  "language_info": {
   "codemirror_mode": {
    "name": "ipython",
    "version": 3
   },
   "file_extension": ".py",
   "mimetype": "text/x-python",
   "name": "python",
   "nbconvert_exporter": "python",
   "pygments_lexer": "ipython3",
   "version": "3.12.10"
  }
 },
 "nbformat": 4,
 "nbformat_minor": 5
}
